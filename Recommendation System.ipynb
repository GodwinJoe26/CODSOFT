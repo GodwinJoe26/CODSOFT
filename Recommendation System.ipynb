{
  "nbformat": 4,
  "nbformat_minor": 0,
  "metadata": {
    "colab": {
      "provenance": [],
      "authorship_tag": "ABX9TyNEPBa9keNsNscz0F7dItPX",
      "include_colab_link": true
    },
    "kernelspec": {
      "name": "python3",
      "display_name": "Python 3"
    },
    "language_info": {
      "name": "python"
    }
  },
  "cells": [
    {
      "cell_type": "markdown",
      "metadata": {
        "id": "view-in-github",
        "colab_type": "text"
      },
      "source": [
        "<a href=\"https://colab.research.google.com/github/GodwinJoe26/CODSOFT/blob/main/Recommendation%20System.ipynb\" target=\"_parent\"><img src=\"https://colab.research.google.com/assets/colab-badge.svg\" alt=\"Open In Colab\"/></a>"
      ]
    },
    {
      "cell_type": "code",
      "source": [
        "import numpy as np\n",
        "from sklearn.metrics.pairwise import cosine_similarity"
      ],
      "metadata": {
        "id": "bvA4c_MX3Fih"
      },
      "execution_count": 2,
      "outputs": []
    },
    {
      "cell_type": "code",
      "source": [
        "ratings_matrix = np.array([\n",
        "    [5, 4, 0, 0, 3],\n",
        "    [0, 0, 5, 0, 4],\n",
        "    [0, 0, 0, 3, 0],\n",
        "    [4, 5, 0, 0, 0],\n",
        "    [0, 0, 4, 0, 5]\n",
        "])"
      ],
      "metadata": {
        "id": "2Ud_wqNj3K6v"
      },
      "execution_count": 3,
      "outputs": []
    },
    {
      "cell_type": "code",
      "source": [
        "def calculate_cosine_similarity(ratings_matrix):\n",
        "    similarity_matrix = cosine_similarity(ratings_matrix)\n",
        "    np.fill_diagonal(similarity_matrix, 0)  # Set self-similarity to 0\n",
        "    return similarity_matrix"
      ],
      "metadata": {
        "id": "eJm0LUPa3MXv"
      },
      "execution_count": 4,
      "outputs": []
    },
    {
      "cell_type": "code",
      "source": [
        "# Define a function to make movie recommendations for a user\n",
        "def recommend_movies(user_id, ratings_matrix, similarity_matrix, num_recommendations=5):\n",
        "    user_ratings = ratings_matrix[user_id]\n",
        "    similar_users = similarity_matrix[user_id]\n",
        "\n",
        "    # Find users most similar to the target user\n",
        "    most_similar_users = np.argsort(similar_users)[::-1]\n",
        "\n",
        "    # Initialize recommendation list\n",
        "    recommendations = []\n",
        "\n",
        "    for user in most_similar_users:\n",
        "        if user_ratings[user] == 0:  # User hasn't rated this movie\n",
        "            movie_ratings = ratings_matrix[user]\n",
        "            rated_indices = np.where(movie_ratings > 0)\n",
        "            movie_score = np.sum(movie_ratings[rated_indices] * similar_users[user])\n",
        "            recommendations.append((movie_score, user))\n",
        "\n",
        "        if len(recommendations) >= num_recommendations:\n",
        "            break\n",
        "    recommendations.sort(reverse=True)\n",
        "    recommended_movie_indices = [user for _, user in recommendations]\n",
        "    return recommended_movie_indices"
      ],
      "metadata": {
        "id": "V-sNIKu53S5v"
      },
      "execution_count": 5,
      "outputs": []
    },
    {
      "cell_type": "code",
      "source": [
        "user_id = 0  # Replace with the user ID you want to recommend movies for\n",
        "similarity_matrix = calculate_cosine_similarity(ratings_matrix)\n",
        "recommended_movies = recommend_movies(user_id, ratings_matrix, similarity_matrix)\n",
        "\n",
        "print(f\"Recommended movies for user {user_id}: {recommended_movies}\")"
      ],
      "metadata": {
        "colab": {
          "base_uri": "https://localhost:8080/"
        },
        "id": "D0Xe5NUm3dE_",
        "outputId": "3c9edaa0-ef8b-4ee5-f994-de03aa42f0d9"
      },
      "execution_count": 6,
      "outputs": [
        {
          "output_type": "stream",
          "name": "stdout",
          "text": [
            "Recommended movies for user 0: [3, 2]\n"
          ]
        }
      ]
    }
  ]
}